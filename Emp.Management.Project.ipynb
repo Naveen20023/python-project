{
 "cells": [
  {
   "cell_type": "code",
   "execution_count": 7,
   "id": "b02c61dd-a77a-4bb7-bb00-b3e1c33b8031",
   "metadata": {},
   "outputs": [
    {
     "name": "stdout",
     "output_type": "stream",
     "text": [
      "\n",
      "===== Employee Management System =====\n",
      "1. Add Employee\n",
      "2. View Employees\n",
      "3. Update Employee\n",
      "4. Delete Employee\n",
      "5. Exit\n"
     ]
    },
    {
     "name": "stdin",
     "output_type": "stream",
     "text": [
      "Enter your choice:  1\n",
      "Enter employee name:  naveen\n",
      "Enter employee age:  23\n",
      "Enter department:  manager\n",
      "Enter salary:  100000\n"
     ]
    },
    {
     "name": "stdout",
     "output_type": "stream",
     "text": [
      "✅ Employee added successfully!\n",
      "\n",
      "===== Employee Management System =====\n",
      "1. Add Employee\n",
      "2. View Employees\n",
      "3. Update Employee\n",
      "4. Delete Employee\n",
      "5. Exit\n"
     ]
    },
    {
     "name": "stdin",
     "output_type": "stream",
     "text": [
      "Enter your choice:  2\n"
     ]
    },
    {
     "name": "stdout",
     "output_type": "stream",
     "text": [
      "\n",
      "--- Employee List ---\n",
      "ID: 1, Name: naveen, Age: 23, Dept: manager, Salary: 100000.0\n",
      "\n",
      "===== Employee Management System =====\n",
      "1. Add Employee\n",
      "2. View Employees\n",
      "3. Update Employee\n",
      "4. Delete Employee\n",
      "5. Exit\n"
     ]
    },
    {
     "name": "stdin",
     "output_type": "stream",
     "text": [
      "Enter your choice:  5\n"
     ]
    },
    {
     "name": "stdout",
     "output_type": "stream",
     "text": [
      "Exiting... Goodbye!\n"
     ]
    }
   ],
   "source": [
    "# import sqlite3\n",
    "\n",
    "# Database setup\n",
    "conn = sqlite3.connect(\"employee.db\")\n",
    "cursor = conn.cursor()\n",
    "\n",
    "cursor.execute(\"\"\"\n",
    "CREATE TABLE IF NOT EXISTS employees (\n",
    "    id INTEGER PRIMARY KEY AUTOINCREMENT,\n",
    "    name TEXT NOT NULL,\n",
    "    age INTEGER NOT NULL,\n",
    "    department TEXT NOT NULL,\n",
    "    salary REAL NOT NULL\n",
    ")\n",
    "\"\"\")\n",
    "conn.commit()\n",
    "\n",
    "# Add Employee\n",
    "def add_employee():\n",
    "    name = input(\"Enter employee name: \")\n",
    "    age = int(input(\"Enter employee age: \"))\n",
    "    dept = input(\"Enter department: \")\n",
    "    salary = float(input(\"Enter salary: \"))\n",
    "    cursor.execute(\"INSERT INTO employees (name, age, department, salary) VALUES (?, ?, ?, ?)\",\n",
    "                   (name, age, dept, salary))\n",
    "    conn.commit()\n",
    "    print(\"✅ Employee added successfully!\")\n",
    "\n",
    "# View Employees\n",
    "def view_employees():\n",
    "    cursor.execute(\"SELECT * FROM employees\")\n",
    "    employees = cursor.fetchall()\n",
    "    if employees:\n",
    "        print(\"\\n--- Employee List ---\")\n",
    "        for emp in employees:\n",
    "            print(f\"ID: {emp[0]}, Name: {emp[1]}, Age: {emp[2]}, Dept: {emp[3]}, Salary: {emp[4]}\")\n",
    "    else:\n",
    "        print(\"No employees found.\")\n",
    "\n",
    "# Update Employee\n",
    "def update_employee():\n",
    "    emp_id = int(input(\"Enter employee ID to update: \"))\n",
    "    name = input(\"Enter new name: \")\n",
    "    age = int(input(\"Enter new age: \"))\n",
    "    dept = input(\"Enter new department: \")\n",
    "    salary = float(input(\"Enter new salary: \"))\n",
    "    cursor.execute(\"UPDATE employees SET name=?, age=?, department=?, salary=? WHERE id=?\",\n",
    "                   (name, age, dept, salary, emp_id))\n",
    "    conn.commit()\n",
    "    print(\"✅ Employee updated successfully!\")\n",
    "\n",
    "# Delete Employee\n",
    "def delete_employee():\n",
    "    emp_id = int(input(\"Enter employee ID to delete: \"))\n",
    "    cursor.execute(\"DELETE FROM employees WHERE id=?\", (emp_id,))\n",
    "    conn.commit()\n",
    "    print(\"✅ Employee deleted successfully!\")\n",
    "\n",
    "# Main Menu\n",
    "def main():\n",
    "    while True:\n",
    "        print(\"\\n===== Employee Management System =====\")\n",
    "        print(\"1. Add Employee\")\n",
    "        print(\"2. View Employees\")\n",
    "        print(\"3. Update Employee\")\n",
    "        print(\"4. Delete Employee\")\n",
    "        print(\"5. Exit\")\n",
    "\n",
    "        choice = input(\"Enter your choice: \")\n",
    "\n",
    "        if choice == \"1\":\n",
    "            add_employee()\n",
    "        elif choice == \"2\":\n",
    "            view_employees()\n",
    "        elif choice == \"3\":\n",
    "            update_employee()\n",
    "        elif choice == \"4\":\n",
    "            delete_employee()\n",
    "        elif choice == \"5\":\n",
    "            print(\"Exiting... Goodbye!\")\n",
    "            break\n",
    "        else:\n",
    "            print(\"❌ Invalid choice! Please try again.\")\n",
    "\n",
    "if __name__ == \"__main__\":\n",
    "    main()\n",
    "    conn.close()\n"
   ]
  },
  {
   "cell_type": "code",
   "execution_count": null,
   "id": "b94536e7-1259-4e5a-94ed-7545f936c0ab",
   "metadata": {},
   "outputs": [],
   "source": []
  }
 ],
 "metadata": {
  "kernelspec": {
   "display_name": "Python 3 (ipykernel)",
   "language": "python",
   "name": "python3"
  },
  "language_info": {
   "codemirror_mode": {
    "name": "ipython",
    "version": 3
   },
   "file_extension": ".py",
   "mimetype": "text/x-python",
   "name": "python",
   "nbconvert_exporter": "python",
   "pygments_lexer": "ipython3",
   "version": "3.12.7"
  }
 },
 "nbformat": 4,
 "nbformat_minor": 5
}
